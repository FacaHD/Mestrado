{
 "cells": [
  {
   "cell_type": "markdown",
   "metadata": {},
   "source": [
    "# Exercicio 3"
   ]
  },
  {
   "cell_type": "code",
   "execution_count": 46,
   "metadata": {},
   "outputs": [],
   "source": [
    "import os\n",
    "import math\n",
    "from cryptography.hazmat.primitives.kdf.pbkdf2 import PBKDF2HMAC\n",
    "from cryptography.hazmat.primitives import hashes\n",
    "from cryptography.hazmat.primitives.hashes import Hash,SHA256\n",
    "from sage.all import *\n",
    "import hashlib\n",
    "from sage.crypto.util import ascii_to_bin, bin_to_ascii"
   ]
  },
  {
   "cell_type": "markdown",
   "metadata": {},
   "source": [
    "# Introdução\n"
   ]
  },
  {
   "cell_type": "markdown",
   "metadata": {},
   "source": [
    "Neste exercicio foi nos pedido construir uma classe EdCSA segundo a norma do FIPS186-5 usando curvas de edwards.\n",
    "A curva utilizada foi a 22519."
   ]
  },
  {
   "cell_type": "code",
   "execution_count": 47,
   "metadata": {},
   "outputs": [],
   "source": [
    "# Edwards 22519\n",
    "p = (2^255)-19\n",
    "K = GF(p)\n",
    "a = K(-1)\n",
    "d = -K(121665)/K(121666)\n",
    "#\n",
    "\n",
    "ed25519 = {\n",
    "'b'  : 256,\n",
    "'Px' : K(15112221349535400772501151409588531511454012693041857206046113283949847762202),\n",
    "'Py' : K(46316835694926478169428394003475163141307993866256225615783033603165251855960),\n",
    "'L'  : ZZ(2^252 + 27742317777372353535851937790883648493), ## ordem do subgrupo primo\n",
    "'n'  : 254,\n",
    "'h'  : 8\n",
    "}\n"
   ]
  },
  {
   "cell_type": "markdown",
   "metadata": {},
   "source": [
    "Para a inicialização da classe usamos o exemplo fornecido pelo professor sobre a curva 22519.\n",
    "Apenas criamos o metodo para a criação da chave publica, sendo esta um ponto gerada pelo gerador P.\n"
   ]
  },
  {
   "cell_type": "code",
   "execution_count": 48,
   "metadata": {},
   "outputs": [],
   "source": [
    "class Ed(object):\n",
    "    def __init__(self,p, a, d , ed = None):\n",
    "        assert a != d and is_prime(p) and p > 3\n",
    "        K = GF(p) \n",
    "        A =  2*(a + d)/(a - d)\n",
    "        B =  4/(a - d)\n",
    "    \n",
    "        alfa = A/(3*B) ; s = B\n",
    "\n",
    "        a4 =  s^(-2) - 3*alfa^2\n",
    "        a6 =  -alfa^3 - a4*alfa\n",
    "        \n",
    "        self.K = K\n",
    "        self.b=ed['b']\n",
    "        self.constants = {'a': a , 'd': d , 'A':A , 'B':B , 'alfa':alfa , 's':s , 'a4':a4 , 'a6':a6 }\n",
    "        self.EC = EllipticCurve(K,[a4,a6]) \n",
    "        self.n=ed['n']\n",
    "\n",
    "        if ed != None:\n",
    "            self.L = ed['L']\n",
    "            self.P = self.ed2ec(ed['Px'],ed['Py'])\n",
    "        else:\n",
    "            self.gen()\n",
    "    \n",
    "    def order(self):\n",
    "        # A ordem prima \"n\" do maior subgrupo da curva, e o respetivo cofator \"h\" \n",
    "        oo = self.EC.order()\n",
    "        n,_ = list(factor(oo))[-1]\n",
    "        return (n,oo//n)\n",
    "    \n",
    "    def gen(self):\n",
    "        L, h = self.order()       \n",
    "        P = O = self.EC(0)\n",
    "        while L*P == O:\n",
    "            P = self.EC.random_element()\n",
    "        self.P = h*P ; self.L = L\n",
    "    \n",
    "    def is_edwards(self, x, y):\n",
    "        a = self.constants['a'] ; d = self.constants['d']\n",
    "        x2 = x^2 ; y2 = y^2\n",
    "        return a*x2 + y2 == 1 + d*x2*y2\n",
    "\n",
    "    def ed2ec(self,x,y):      ## mapeia Ed --> EC\n",
    "        if (x,y) == (0,1):\n",
    "            return self.EC(0)\n",
    "        z = (1+y)/(1-y) ; w = z/x\n",
    "        alfa = self.constants['alfa']; s = self.constants['s']\n",
    "        return self.EC(z/s + alfa , w/s)\n",
    "    \n",
    "    def ec2ed(self,P):        ## mapeia EC --> Ed\n",
    "        x,y = P.xy()\n",
    "        alfa = self.constants['alfa']; s = self.constants['s']\n",
    "        u = s*(x - alfa) ; v = s*y\n",
    "        return (u/v , (u-1)/(u+1))\n",
    "   \n",
    "   \n",
    "\n",
    "    def generate_public_key(self):\n",
    "      \n",
    "        self.private_key = H(os.urandom(32))\n",
    "        \n",
    "        a1 = 2^(self.b-2) + sum(2^i * bit(self.private_key,i) for i in range(3,self.b-2))\n",
    "    \n",
    "        point = a1 * self.P\n",
    "        self.public_key_point=point\n",
    "\n",
    "   \n",
    "    def sign(self, msg):\n",
    "        #2\n",
    "        key_hashed=H(self.private_key)\n",
    "        key_msg=key_hashed+msg\n",
    "        s=0\n",
    "        r=0\n",
    "       \n",
    "        e= hashing(key_msg)\n",
    "        r = mod(e,self.n)\n",
    "        r_int=ZZ(r)\n",
    "\n",
    "        #3\n",
    "        \n",
    "        R  = r_int*self.P\n",
    "        \n",
    "        #4\n",
    "        msg_intermedia=R+self.public_key_point\n",
    "        msg_total=str(msg_intermedia).encode('utf-8')+msg\n",
    "        msg_hashed = hashing(msg_total)\n",
    "        h= mod(msg_hashed,self.n)\n",
    "        \n",
    "        #5\n",
    "        s=mod(r_int+ZZ(h)*bytes_to_int(self.private_key),self.n)\n",
    "        \n",
    "        #6\n",
    "        return R, s\n",
    "    \n",
    "    def verify(self,msg,R,s):\n",
    "        #1\n",
    "        msg_intermedia=R+self.public_key_point\n",
    "        msg_total=str(msg_intermedia).encode('utf-8')+msg\n",
    "        msg_hashed = hashing(msg_total)\n",
    "        h= mod(msg_hashed,self.n)\n",
    "        \n",
    "        #2\n",
    "        P1=ZZ(s)*self.P\n",
    "        \n",
    "        #3\n",
    "        P2=R+(ZZ(h)*(self.public_key_point))\n",
    "        \n",
    "        #4\n",
    "        print(P1==P2)\n",
    "        \n",
    "\n"
   ]
  },
  {
   "cell_type": "code",
   "execution_count": 49,
   "metadata": {},
   "outputs": [],
   "source": [
    "def bytes_to_int(bytes):\n",
    "    result = 0\n",
    "    for b in bytes:\n",
    "        result = result * 256 + int(b)\n",
    "    return result\n",
    "\n",
    "def H(m):\n",
    "        return hashlib.sha512(m).digest()\n",
    "\n",
    "\n",
    "def hashing(m):\n",
    "    return int(hashlib.sha512(str(m).encode(\"utf-8\")).hexdigest(), 16)\n",
    "        \n",
    "def bit(h,i):\n",
    "        return ((h[int(i/8)]) >> (i%8)) & 1"
   ]
  },
  {
   "cell_type": "markdown",
   "metadata": {},
   "source": [
    "Para a parte do sign seguimos os seguintes passos:\n",
    "\n",
    "1.Calcular a chave publica que é um ponto gerado através da chave privada e do gerador.\n",
    "\n",
    "2.Geramos deterministacamente um segredo  que basicamente consistiu na concatenação da mensagem com a chave privada onde nesta foi aplicada uma função hash, a sha 512 como referido na norma.Após isto aplicou-se a função hash a concatenação destas duas e o mod de n tendo assim o r.\n",
    "\n",
    "3.Calculou-se o ponto R multiplicando o ponto r gerado anteriormente pelo gerador.\n",
    "\n",
    "4.Calculou-se o h que é a concatenação do ponto R,da chave publica e de mensagem,posteriormente aplicado a função de hash e realizando o mod de n\n",
    "\n",
    "5.Calculou-se o  que é igual a seguinte expressão:\n",
    "s = (r + h * privKey) mod n\n",
    "\n",
    "6.Por fim retornamos o ponto R e o s."
   ]
  },
  {
   "cell_type": "markdown",
   "metadata": {},
   "source": [
    "Assumindo que de input recebemos o s, o R gerados no sign e a mensagem,\n",
    "para a parte do verify seguimos os seguintes passos:\n",
    "\n",
    "1.Calculou-se o h da mesma forma que se calculou no sign\n",
    "\n",
    "2.Para o ponto P1 multiplicamos o gerador P pelo parametro s\n",
    "\n",
    "3.Para o o ponto P2 somamos o parametro R a multiplicação da chave privada pelo h.\n",
    "\n",
    "4.No fim retorna-se a igualdade entre o P1 e o P2."
   ]
  },
  {
   "cell_type": "code",
   "execution_count": 51,
   "metadata": {},
   "outputs": [
    {
     "name": "stdout",
     "output_type": "stream",
     "text": [
      "Elliptic Curve defined by y^2 = x^3 + 42204101795669822316448953119945047945709099015225996174933988943478124189485*x + 13148341720542919587570920744190446479425344491440436116213316435534172959396 over Finite Field of size 57896044618658097711785492504343953926634992332820282019728792003956564819949\n",
      "\n",
      "(7237005577332262213973186563042994240857116359379907606001950938285454250989, 8)\n",
      "True\n",
      "False\n"
     ]
    }
   ],
   "source": [
    "E = Ed(p,a,d,ed25519)\n",
    "print(E.EC)\n",
    "print()\n",
    "print(E.order())\n",
    "Px = ed25519['Px']; Py = ed25519['Py']\n",
    "print(E.is_edwards(Px,Py))\n",
    "E.ed2ec(Px,Py)\n",
    "\n",
    "E.generate_public_key()\n",
    "R,s=E.sign(b\"ola\")\n",
    "E.verify(b\"ola\",R,s)\n"
   ]
  },
  {
   "cell_type": "markdown",
   "metadata": {},
   "source": [
    "# Conclusão"
   ]
  },
  {
   "cell_type": "markdown",
   "metadata": {},
   "source": [
    "A partida tudo indicaria que deveria funcionar.Porém os pontos obtidos são diferentes.\n",
    "O grupo fez o esforço para tentar encontrar o problema mas sem sucesso, uma vez que seguimos os passos todos indicados para a aplicação da EdCSA.\n",
    "Suspeita-se que seja no modo das operações, como somas e multiplicações que tenham de ser feitas de forma diferente."
   ]
  }
 ],
 "metadata": {
  "interpreter": {
   "hash": "8392317d8465f6926aa8e8caf600beab7abccd88eaee4c4a64c3ebe09c572edd"
  },
  "kernelspec": {
   "display_name": "SageMath 9.5",
   "language": "sage",
   "name": "sagemath"
  },
  "language_info": {
   "codemirror_mode": {
    "name": "ipython",
    "version": 3
   },
   "file_extension": ".py",
   "mimetype": "text/x-python",
   "name": "python",
   "nbconvert_exporter": "python",
   "pygments_lexer": "ipython3",
   "version": "3.9.10"
  },
  "orig_nbformat": 4
 },
 "nbformat": 4,
 "nbformat_minor": 2
}
