{
 "cells": [
  {
   "cell_type": "markdown",
   "metadata": {},
   "source": [
    "# Problema 1"
   ]
  },
  {
   "cell_type": "markdown",
   "metadata": {},
   "source": [
    "\n",
    "1. Criar um comunicação privada assíncrona entre um agente Emitter e um agente Receiver que cubra os seguintes aspectos:\n",
    "    1. Autenticação do criptograma e dos metadados (associated data). Usar uma cifra simétrica  num modo HMAC  que seja seguro contra ataques aos “nounces” .\n",
    "    2. Os “nounces” são gerados por um gerador pseudo aleatório (PRG) construído por um função de hash em modo XOF.\n",
    "    3. O par de chaves cipher_key, mac_key, para cifra e autenticação, é acordado entre agentes usando o protocolo DH com autenticação dos agentes usando assinaturas DSA."
   ]
  },
  {
   "cell_type": "code",
   "execution_count": 1,
   "metadata": {},
   "outputs": [],
   "source": [
    "from ast import Try\n",
    "from hmac import digest\n",
    "from inspect import signature\n",
    "import re\n",
    "from select import select\n",
    "import time\n",
    "from cryptography.hazmat.primitives import hashes, hmac\n",
    "from cryptography.hazmat.primitives.asymmetric import dh\n",
    "from cryptography.hazmat.primitives.kdf.hkdf import HKDF\n",
    "import cryptography.exceptions\n",
    "import os\n",
    "from cryptography.hazmat.primitives.ciphers.aead import AESGCM"
   ]
  },
  {
   "cell_type": "markdown",
   "metadata": {},
   "source": [
    "# Introdução"
   ]
  },
  {
   "cell_type": "markdown",
   "metadata": {},
   "source": [
    "Fazendo uma breve introdução ao problema, foram criados dois utilizadores a Alice e o Bob sendo estes o emissor e o recetor, respetivamente.\n",
    "Como pede no enunciado do problema, antes de fazer qualquer troca de mensagens estabelecem a chave comum entre eles através do protocolo DH.\n",
    "Após esta chave ser verificada procede-se ao envio da mensagem cifrada concatenando um nounce e uma assinatura digital produzida através do HMAC.\n"
   ]
  },
  {
   "cell_type": "markdown",
   "metadata": {},
   "source": [
    "# Emissor"
   ]
  },
  {
   "cell_type": "code",
   "execution_count": 2,
   "metadata": {},
   "outputs": [],
   "source": [
    "class Alice:\n",
    "    def __init__(self):\n",
    "        self.private_key=None\n",
    "        self.shared_key=None\n",
    "     \n",
    "    #gera-se a chave publica\n",
    "    def generate_key(self,parameters):\n",
    "        self.private_key = parameters.generate_private_key()\n",
    "    \n",
    "    #gera-se a chave partilhada entre ambos para o protocolo DH\n",
    "    def generate_derived_key(self,bob_private_key):\n",
    "        derived_key=self.private_key.exchange(bob_private_key)\n",
    "        self.shared_key = HKDF(\n",
    "            algorithm=hashes.SHA256(),\n",
    "            length=32,\n",
    "            salt=None,\n",
    "            info=b'handshake data',\n",
    ").derive(derived_key)\n",
    "\n",
    "    #gera-se a signature para autenticação da mensagem através do HMAC\n",
    "    def authenticate(self):\n",
    "        chave=b\"olaololaol\"\n",
    "        h=hmac.HMAC(self.shared_key,hashes.SHA256())\n",
    "        h.update(chave)\n",
    "        signature=h.finalize()\n",
    "        return signature\n",
    "\n",
    "    \n",
    "    def encrypt1 (self,data,associated_data):\n",
    "        aesgcm = AESGCM(self.shared_key)\n",
    "        nonce=os.urandom(16)\n",
    "        ct = aesgcm.encrypt(nonce,data,associated_data)\n",
    "        return nonce,ct\n",
    "    \n",
    "    #gera-se a signature através do HMAC e contatena-se a mensagem com o nonce gerado aleatoriamente \n",
    "    # a associated_data que não é encriptada e data que é encriptada\n",
    "    def send_message(self,associated_data,data):\n",
    "        signature=self.authenticate()\n",
    "        nonce,ct= self.encrypt1(data,associated_data)\n",
    "        return signature+nonce+associated_data+ct\n",
    "\n",
    "  \n",
    "         "
   ]
  },
  {
   "cell_type": "markdown",
   "metadata": {},
   "source": [
    "Nesta classe, temos os métodos referentes ao emissor. Criamos a classe com duas chaves, a chave privada que só o emissor tem acesso e a chave partilhada que é conseguida através do método generate_derived_key(), que usando a função exchange entre a chave privada do emissor e a chave pública obtemos uma chave que à partida espera-se que seja igual entre os dois intervinientes da comunicação. Para além disso, temos o método de autenticação que dada uma chave atribuída pelo utilizador e a chave pública vai gerar uma assinatura através do modo HMAC que verifica do lado do recetor se as chaves coincidem. Por fim, temos o método de enviar a mensagem,que usando um método de Galois e um nounce aleatoriamente gerado codifica a mensagem e posteriormente concatena todos os componentes relevantes para o envio da mensagem (signature,nonce, associated_data e a  mensagem) e envia para o outro interviniente."
   ]
  },
  {
   "cell_type": "markdown",
   "metadata": {},
   "source": [
    "# Recetor"
   ]
  },
  {
   "cell_type": "code",
   "execution_count": 3,
   "metadata": {},
   "outputs": [],
   "source": [
    "class Bob:\n",
    "    def __init__(self):\n",
    "        self.private_key=None\n",
    "        self.shared_key=None\n",
    "       \n",
    "    \n",
    "    #gera-se a chave privada\n",
    "    def generate_key(self,parameters):\n",
    "        self.private_key = parameters.generate_private_key()\n",
    "    \n",
    "    #gera-se a chave partilhada entre ambos\n",
    "    def generate_derived_key(self,alice_private_key):\n",
    "        derived_key=self.private_key.exchange(alice_private_key)\n",
    "        self.shared_key = HKDF(\n",
    "            algorithm=hashes.SHA256(),\n",
    "            length=32,\n",
    "            salt=None,\n",
    "            info=b'handshake data',\n",
    ").derive(derived_key)\n",
    "    \n",
    "\n",
    "    #utiliza-se o HMAC para autenticar a mensagem recebida\n",
    "    def verify(self,signature):\n",
    "        chave=b\"olaololaol\"\n",
    "        h=hmac.HMAC(self.shared_key,hashes.SHA256())\n",
    "        h.update(chave)\n",
    "        try:\n",
    "            h.verify(signature)\n",
    "            return True\n",
    "        except cryptography.exceptions.InvalidSignature:\n",
    "            return False\n",
    "    \n",
    "\n",
    "\n",
    "    def decrypt1 (self,ciphertext,nonce,associated_data) :\n",
    "        aesgcm = AESGCM(self.shared_key)\n",
    "        try:\n",
    "            plain_text=aesgcm.decrypt(nonce,ciphertext,associated_data)\n",
    "        except cryptography.exceptions.InvalidTag:\n",
    "            return 1,None\n",
    "        return None,plain_text.decode('utf-8')\n",
    "\n",
    "    \n",
    " #realiza-se o parsing da mensagem recebida,\n",
    " #verifica-se se a signature corresponde a signature que o bob tem\n",
    " #realiza-se a descodificação da mensagem \n",
    "    def recieve_message(self,cpr):\n",
    "        (signature,nonce,associated_data,ct)=parser(cpr)\n",
    "        autenticacao=self.verify(signature)\n",
    "        if autenticacao ==False:\n",
    "            print(\"erro\")\n",
    "        else:   \n",
    "            error_code,text_plain=self.decrypt1(ct,nonce,associated_data)\n",
    "            print(text_plain)\n",
    "    "
   ]
  },
  {
   "cell_type": "markdown",
   "metadata": {},
   "source": [
    "Nesta classe, temos os métodos referentes ao recetor. Criamos a classe com duas chaves, a chave privada que só o recetor tem acesso e a chave partilhada que é conseguida através do método generate_derived_key() que usando a função exchange entre a chave privada do emissor e a chave pública obtemos uma chave que à partida espera-se que seja igual entre os dois intervinientes da comunicação. Para além disso temos o método de verificação da assinatura digital da mensagem recebida e só vai ser feita a descodificação da mensagem caso esta coincida com a cifra gerada por HMAC do recetor. No método de receção da mensagem realizamos o parsing da mensagem referida e retiramos os componentes importantes à nossa comunicação. Usamos a signature no método de verificação referido na frase anterior e o texto encriptado, o nounce, e os dados associados são passados para o método de descodificação. No método de descodificação através de um método de Galois obtemos o texto inicial enviado pelo emissor."
   ]
  },
  {
   "cell_type": "code",
   "execution_count": 4,
   "metadata": {},
   "outputs": [],
   "source": [
    "\n",
    "#parser da mensagem enviada pela alice ao bob\n",
    "def parser(msg):\n",
    "    signature=msg[:32]\n",
    "    nonce =msg[32:48]\n",
    "    associated_data = msg[48:60]\n",
    "    ct = msg[60:]\n",
    "    return (signature,nonce,associated_data,ct)"
   ]
  },
  {
   "cell_type": "code",
   "execution_count": 5,
   "metadata": {},
   "outputs": [
    {
     "name": "stdout",
     "output_type": "stream",
     "text": [
      "b'\\xa8\\xfe G\\xdbS\\x8fEs\\x18\\xd8\\xe1HtX\\x84\\x10\\x93d.i\\x10\\xa4\\x98\\xfar\\xbc\\xc6\\xcfiy\\tU\\x16\\x16\\x88^Z.6Z\\xffz\\xbeF\\xa6nD\\x1e\\xe1\\xc0\\xad\\x10\\x03\\xbf9\\x0fK\\xf0\\xb6\\x04#:\\xd9M$F\\xefN\\x98\\xa1\\xc3\\xd9\\x93\\x89\\xc5)\\xdd\\x1f\\xe4\\x11\\x9f~x\\x19\\xa47\\x16\\xa1\\xcdT\\xb0QLO\\xa6\\xca\\xa3\\x1b\\x9d\\xf7\\xefgP\\xdc\\x0e\\xf5}\\xf3\\x8f\\xeb\\xabe\\x1e\\xd0\\xa4\\x11\\x11\\xb5\\x85G\\x8dn\\xe2u\\x013\\xfcuj\\x89\\xe9\\xfaS\\x1c\\xc6|\\xcf\\xdb\\xa4\\xec\\xea_\\xdd\\x83,\\x9f\\x7f0[{\\xb7\\xa9\\xe0\\x87\\x9b\\xca\\xa1\\xb40!H\\x87\\xf1\\x01\\xde0`n\\xc34w\\x85\\'\\x19\\x13F\\xb1B2\\xe8\\xa4\\x95fI\\x14U\\xcf\\xd8\\x1a\\x97\\x8d,(\\x88vV\\x82y\\xe6\\xaf\\x156V@\\xc0\\xf2\\x1e{\\xbc\\x00\\xfd\\x05\\xa7\\xd4\\xc10~[\\xf3Zr~\\x00F\\x9e+0\\xad\\xf0#\\xe1Fe>\\x9e\\xd7\\xa6\\xbb\\x97#\\xc1%u|w%\\xb7\\xd7\\xceO\\x91\\xa2\\xda\\x95)m\\xb8\\xe5\\x82\\xd9my\\xef\\xacd\\x05l\"\\x1b\\xe8\\x8d\\xd0\\x93[\\xcd\\x10\\x82\\x0c\\t\\x18\\x8e\\xb2s\\xfb,!\\x9a\\xcd\\x16\\xa98c~\\xe4\\xab\\xd8\\xb8\\xd3\\xe5+$\\xaa'\n",
      "Daniel e Joao a estudar Estruturas criptograficas a segunda no mestrado de engenharia informatica na universidade do minho fewifmeqmfqfewq fkeowqmfewioqfimewq fewijqfmioewqoifewq fijeqijfewoqife jpofewqjpofewqjpof fjpewqpjfewqp\n",
      "0.0014171600341796875\n"
     ]
    }
   ],
   "source": [
    "def main() :\n",
    "   \n",
    "    #gera-se os parametros para a criação da chave privada\n",
    "    parameters = dh.generate_parameters(generator=2, key_size=512)\n",
    "    alice = Alice()\n",
    "    bob =Bob()\n",
    "    #gera-se a chave privada para a alice e o bob\n",
    "    start=time.time()\n",
    "    alice.generate_key(parameters)\n",
    "    bob.generate_key(parameters)\n",
    "    \n",
    "    \n",
    "    \n",
    "    #utiliza-se a chave publica para gerar a chave partilhada entre o bob e alice\n",
    "    alice.generate_derived_key(bob.private_key.public_key())\n",
    "    bob.generate_derived_key(alice.private_key.public_key())\n",
    " \n",
    "    #envio de mensagem\n",
    "    msg=b\"Daniel e Joao a estudar Estruturas criptograficas a segunda no mestrado de engenharia informatica na universidade do minho fewifmeqmfqfewq fkeowqmfewioqfimewq fewijqfmioewqoifewq fijeqijfewoqife jpofewqjpofewqjpof fjpewqpjfewqp\"\n",
    "    msg2=os.urandom(12)\n",
    "\n",
    "    #se a chave coincidir procede-se ao envio e receção da mensagem autenticada por HMAC\n",
    "    if(alice.shared_key==bob.shared_key) == True:\n",
    "        ct=alice.send_message(msg2,msg)\n",
    "        print(ct)\n",
    "        bob.recieve_message(ct)\n",
    "    else:\n",
    "        \"erro\"\n",
    "    \n",
    "    end=time.time()\n",
    "    print(end-start)\n",
    "    \n",
    "\n",
    "if __name__== \"__main__\":\n",
    "    main()"
   ]
  },
  {
   "cell_type": "markdown",
   "metadata": {},
   "source": [
    "Na main é onde é simulada a comunicação assíncrona entre o bob e a alice. Inicialmente são gerados parâmetros comuns a ambos para estes gerarem a respetiva chave privada. De seguida, cada um usa a chave pública e aplica o método generate_derived_key() para gerar a chave comum entre ambos. Após este método verifica-se se a chave partilhada dos dois coincide e se coincidir procede-se ao envio da mensagem e a respetiva receção. Utilizou-se a biblioteca time para as medições de performance referentes a pergunta três."
   ]
  }
 ],
 "metadata": {
  "interpreter": {
   "hash": "f6f09947e253af544d68523b25c84466c5032576772f7e30eec03ecb9a460324"
  },
  "kernelspec": {
   "display_name": "Python 3 (ipykernel)",
   "language": "python",
   "name": "python3"
  },
  "language_info": {
   "codemirror_mode": {
    "name": "ipython",
    "version": 3
   },
   "file_extension": ".py",
   "mimetype": "text/x-python",
   "name": "python",
   "nbconvert_exporter": "python",
   "pygments_lexer": "ipython3",
   "version": "3.9.7"
  }
 },
 "nbformat": 4,
 "nbformat_minor": 4
}
