{
 "cells": [
  {
   "cell_type": "markdown",
   "metadata": {},
   "source": [
    "# Problema 3"
   ]
  },
  {
   "cell_type": "markdown",
   "metadata": {},
   "source": [
    "3. Compare experimentalmente a eficiência dos dois esquemas de cifra."
   ]
  },
  {
   "cell_type": "markdown",
   "metadata": {},
   "source": [
    "# Conclusão\n"
   ]
  },
  {
   "cell_type": "markdown",
   "metadata": {},
   "source": [
    "### Problema 1\n",
    "\n",
    "Para os testes referentes a este exercício considerou-se que a geração dos parâmetros não está incluída no tempo de execução do algoritmo.\n",
    "\n",
    "input: Daniel e Joao\n",
    "Tempo de Execução : 0.0029680728912353516\n",
    "\n",
    "input : \"Daniel e Joao a estudar Estruturas criptograficas a segunda no mestrado de engenharia informatica na universidade do minho\"\n",
    "Tempo de Execução : 0.0010013580322265625\n",
    "\n",
    "input : \"Daniel e Joao a estudar Estruturas criptograficas a segunda no mestrado de engenharia informatica na universidade do minho fewifmeqmfqfewq fkeowqmfewioqfimewq fewijqfmioewqoifewq fijeqijfewoqife jpofewqjpofewqjpof fjpewqpjfewqp\"\n",
    "Tempo de Execução : 0.0029778480529785156\n",
    "\n",
    "Como conclusão retiramos que este metodo é bastante escalável uma vez que para tamanhos de mensagens substancialmente diferentes este mantêm os mesmos valores do tempo de execução. Ainda de referir que os dados associados foram gerados aleatoriamente para cada execução com o tamanho de 12 bits.\n",
    "\n"
   ]
  },
  {
   "cell_type": "markdown",
   "metadata": {},
   "source": [
    "### Problema 2\n",
    "\n",
    "input: \"Daniel e Joao\"\n",
    "Tempo de Execução : 0.9853951930999756\n",
    "\n",
    "input : \"Daniel e Joao a estudar Estruturas criptograficas a segunda no mestrado de engenharia informatica na universidade do minho\"\n",
    "Tempo de Execução : 0.9576730728149414\n",
    "\n",
    "input : \"Daniel e Joao a estudar Estruturas criptograficas a segunda no mestrado de engenharia informatica na universidade do minho fewifmeqmfqfewq fkeowqmfewioqfimewq fewijqfmioewqoifewq fijeqijfewoqife jpofewqjpofewqjpof fjpewqpjfewqp\"\n",
    "Tempo de Execução : 0.0029778480529785156\n"
   ]
  }
 ],
 "metadata": {
  "kernelspec": {
   "display_name": "Python 3 (ipykernel)",
   "language": "python",
   "name": "python3"
  },
  "language_info": {
   "codemirror_mode": {
    "name": "ipython",
    "version": 3
   },
   "file_extension": ".py",
   "mimetype": "text/x-python",
   "name": "python",
   "nbconvert_exporter": "python",
   "pygments_lexer": "ipython3",
   "version": "3.9.7"
  }
 },
 "nbformat": 4,
 "nbformat_minor": 4
}
