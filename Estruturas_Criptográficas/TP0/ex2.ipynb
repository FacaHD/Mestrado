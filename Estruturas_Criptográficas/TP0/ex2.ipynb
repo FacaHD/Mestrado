{
 "cells": [
  {
   "cell_type": "markdown",
   "metadata": {},
   "source": [
    "# Problema 2"
   ]
  },
  {
   "cell_type": "markdown",
   "metadata": {},
   "source": [
    "\n",
    "\n",
    "2. Criar uma cifra com autenticação de meta-dados a partir de um PRG\n",
    "    1. Criar um gerador pseudo-aleatório do tipo XOF (“extened output function”) usando o SHAKE256, para gerar uma sequência de palavras de 64 bits. \n",
    "        1. O gerador deve poder gerar até um limite de ,2^n, palavras (n é  um parâmetro) armazenados em long integers do Python.\n",
    "        2. A “seed” do gerador funciona como cipher_key e é gerado por um KDF a partir de uma “password” .\n",
    "        3. A autenticação do criptograma e dos dados associados é feita usando o próprio SHAKE256.\n",
    "    2. Defina os algoritmos de cifrar e decifrar : para cifrar/decifrar uma mensagem com blocos de 64 bits, os “outputs” do gerador são usados como máscaras XOR dos blocos da mensagem. \n",
    "    Essencialmente a cifra básica é uma implementação do  “One Time Pad”."
   ]
  },
  {
   "cell_type": "code",
   "execution_count": 28,
   "metadata": {},
   "outputs": [],
   "source": [
    "import os\n",
    "import random\n",
    "import sys\n",
    "import time\n",
    "import teste\n",
    "from cryptography.hazmat.primitives.kdf.pbkdf2 import PBKDF2HMAC\n",
    "from cryptography.hazmat.primitives import hashes, hmac\n",
    "from cryptography.hazmat.primitives import padding\n",
    "from ast import Try\n",
    "from hmac import digest\n",
    "from inspect import signature\n",
    "import re\n",
    "from select import select\n",
    "from cryptography.hazmat.primitives import hashes, hmac\n",
    "from cryptography.hazmat.primitives.asymmetric import dh\n",
    "from cryptography.hazmat.primitives.kdf.hkdf import HKDF\n",
    "import cryptography.exceptions\n",
    "import os\n",
    "from cryptography.hazmat.primitives.ciphers.aead import AESGCM"
   ]
  },
  {
   "cell_type": "markdown",
   "metadata": {},
   "source": [
    "# Introdução"
   ]
  },
  {
   "cell_type": "markdown",
   "metadata": {},
   "source": [
    "Fazendo uma breve introdução ao exercício, foram criados dois utilizadores a Alice e o Bob sendo estes o emissor e o recetor, respetivamente.\n",
    "Como é pedido no enunciado é gerada uma seed através de uma password comum aos dois intervinentes. Com esta seed é depois gerada a key comum a ambos. Esta key é usada posteriormente para codificar a mensagem fazendo o XOR ao texto cifrado. No lado do recetor é realizado o processo inverso para descodificação."
   ]
  },
  {
   "cell_type": "markdown",
   "metadata": {},
   "source": [
    "# Emissor"
   ]
  },
  {
   "cell_type": "code",
   "execution_count": 29,
   "metadata": {},
   "outputs": [],
   "source": [
    "#hMAc\n",
    "class Alice:\n",
    "    def __init__(self):\n",
    "        self.chiper_key=None\n",
    "        self.salt=os.urandom(16)\n",
    "        \n",
    "     \n",
    "    def setKey(self,key):\n",
    "        self.chiper_key=key\n",
    "\n",
    "#autenticacao modo hmac\n",
    "    def authenticate(self):\n",
    "        tent=b\"olaololaol\"\n",
    "        h=hmac.HMAC(self.chiper_key,hashes.SHA256())\n",
    "        h.update(tent)\n",
    "        signature=h.finalize()\n",
    "        return signature\n",
    "\n",
    "\n",
    "#algoritmo para a geracao da seed atraves da password\n",
    "    def generate_seed(self,password):\n",
    "        kdf= PBKDF2HMAC(\n",
    "        algorithm=hashes.SHA256(),\n",
    "        length=64,\n",
    "        salt=self.salt,\n",
    "        iterations=390000,\n",
    "    )\n",
    "        seed=kdf.derive(password)\n",
    "        return seed\n",
    "    \n",
    "    #codificacao da mensagem a enviar atraves da cifra one time pad\n",
    "    #usa-se primeiramente padding para preencher a mensagem com 64 bits e depoisa aplica-se o xor\n",
    "    def code(self,message):\n",
    "        ct=b''\n",
    "        padder=padding.PKCS7(64).padder()\n",
    "        padded_data= padder.update(message)\n",
    "        padded_data += padder.finalize()\n",
    "        for x in range (0,len(padded_data),8):\n",
    "            p=padded_data[x:x+8]\n",
    "            for index, byte in enumerate(p):   \n",
    "                ct += bytes([byte ^ self.chiper_key[x*8:(x+1)*8][index]])\n",
    "        return ct \n",
    "    \n",
    "    #envio da mensagem concatenada com o salt e a signature\n",
    "    def send_message(self,data):\n",
    "        signature=self.authenticate()\n",
    "        ct= self.code(data)\n",
    "        return signature+self.salt+ct\n",
    "\n",
    "  \n",
    "  \n",
    "    \n",
    "    \n",
    "           "
   ]
  },
  {
   "cell_type": "markdown",
   "metadata": {},
   "source": [
    "Nesta classe temos os metodos referentes ao emissor. A classe inicia-se com uma chave e um salt que vão ser usados para a codificação da mensagem.Temos também o metodo de autenticação que é feito através do modo hmac que usa o sha256.A seguir temos o metodo para a criação da seed através da password inserida pelo utilizador que é feita através do SHAKE256, gerando uma sequencia com tamanho de 64 bits, parametro estipulado no metodo, e é usado também o salt gerado aleatoriamente do utilizador como parametro.\n",
    "A seguir temos o metodo de codifcação da mensagem que utiliza a cifra one time pad que é uma cifra que o tamanho da chave tem que ser igual ao tamanho de texto a ser codificado.Devido a este facto aplicamos o padding a mensagem para esta ter um tamanho de 64 bits e a seguir aplicamos um xor a cada byte de texto usando o respetivo byte da chave.Por fim temos o metodo de enviar a mensagem que utiliza o metodo de autenticação para obter a assinatura do emissor e concatena a mensagem com o salt e o texto codificado."
   ]
  },
  {
   "cell_type": "markdown",
   "metadata": {},
   "source": [
    "# Recetor"
   ]
  },
  {
   "cell_type": "code",
   "execution_count": 30,
   "metadata": {},
   "outputs": [],
   "source": [
    "class Bob:\n",
    "    def __init__(self):\n",
    "            self.chiper_key=None\n",
    "            self.salt=None\n",
    "       \n",
    "    def setKey(self,key):\n",
    "        self.chiper_key=key\n",
    "\n",
    "#verifica a signature recebida do emissor\n",
    "    def verify(self,signature):\n",
    "        tent=b\"olaololaol\"\n",
    "        h=hmac.HMAC(self.chiper_key,hashes.SHA256())\n",
    "        h.update(tent)\n",
    "        try:\n",
    "            h.verify(signature)\n",
    "            return True\n",
    "        except cryptography.exceptions.InvalidSignature:\n",
    "            return False\n",
    "    \n",
    "\n",
    "    #gera a seed através da password inserida\n",
    "    def generate_seed(self, password):\n",
    "        kdf = PBKDF2HMAC(\n",
    "            algorithm=hashes.SHA256(),\n",
    "            length=64,\n",
    "            salt=self.salt,\n",
    "            iterations=390000,\n",
    "            )\n",
    "        seed = kdf.derive(password)\n",
    "        return seed \n",
    "\n",
    "    def getSalt(self,text):\n",
    "        self.salt=text[32:48]\n",
    "    \n",
    "    #descodifica a mensagem recebida aplicando o xor ao texto codificado e\n",
    "    #depois retira-se os bytes adicionados anteriormente com o unppading\n",
    "    def decode(self, ct):\n",
    "        pt = b''\n",
    "        for x in range (0,len(ct),8):\n",
    "            p=ct[x:x+8]\n",
    "            for index, byte in enumerate(p):   \n",
    "                pt += bytes([byte ^ self.chiper_key[x*8:(x+1)*8][index]])\n",
    "    # Algoritmo para retirar padding para decifragem\n",
    "        unpadder = padding.PKCS7(64).unpadder()\n",
    "    # Retira bytes adicionados \n",
    "        unpadded = unpadder.update(pt) + unpadder.finalize()\n",
    "        return unpadded.decode(\"utf-8\")\n",
    "\n",
    "#rececao da mensagem e divisão da mensagem nas suas componentes\n",
    "#verifica a signature e procede-se ao decode da mensagem\n",
    "    def recieve_message(self,cpr):\n",
    "        (signature,salt,ct)=parser(cpr)\n",
    "        autenticacao=self.verify(signature)\n",
    "        if autenticacao ==False:\n",
    "            print(\"erro\")\n",
    "        else:   \n",
    "            text_plain=self.decode(ct)\n",
    "            print(text_plain)\n",
    "    \n",
    "   \n"
   ]
  },
  {
   "cell_type": "markdown",
   "metadata": {},
   "source": [
    "Os métodos da classe do Recetor em relação à geração da key são idênticos aos da classe do emissor. Temos também o método que verifica se a assinatura recebida é igual à que o recetor tem. Caso isto se verifique procede-se à descodificação da mensagem que aplica o XOR ao texto cifrado para obter o texto descodificado. Após este passo procede-se ao unpadding da mensagem para retirar os bytes adicionados na codificação e obtém-se assim o texto descodificado. "
   ]
  },
  {
   "cell_type": "code",
   "execution_count": 31,
   "metadata": {},
   "outputs": [],
   "source": [
    "#parser para a mensagem recebida\n",
    "def parser(msg):\n",
    "    signature=msg[:32]\n",
    "    salt=msg[32:48]\n",
    "    ct=msg[48:]\n",
    "    return (signature,salt,ct)\n",
    "\n",
    "\n",
    "#metodo para a geracao da chave atraves da seed\n",
    "def prg(seed,N):\n",
    "    digest=hashes.Hash(hashes.SHAKE256(8*pow(2,N)))\n",
    "    digest.update(seed)\n",
    "    long_integers=digest.finalize()\n",
    "    return long_integers"
   ]
  },
  {
   "cell_type": "code",
   "execution_count": 32,
   "metadata": {},
   "outputs": [
    {
     "name": "stdout",
     "output_type": "stream",
     "text": [
      "Daniel e Joao\n",
      "0.9853951930999756\n"
     ]
    }
   ],
   "source": [
    "def main() :\n",
    "    alice = Alice()\n",
    "    bob =Bob()\n",
    "\n",
    "    password=input (\"password: \")\n",
    "    \n",
    "    start=time.time()\n",
    "    #gera-se a seed para a alice através da password\n",
    "    seed_emitter=alice.generate_seed(password.encode())\n",
    "   \n",
    "   #gera-se a chave da alice através da seed\n",
    "    key_emitter=prg(seed_emitter,4)\n",
    "    alice.setKey(key_emitter)\n",
    "    \n",
    "    #envio da mensagem para o bob\n",
    "    ct=alice.send_message(\"Daniel e Joao a estudar Estruturas criptograficas a segunda no mestrado de engenharia informatica na universidade do minho\".encode())\n",
    "    \n",
    "    #define-se o salt do bob através da mensagem recebida\n",
    "    bob.getSalt(ct)\n",
    "    #com o salt recebido gera-se a seed do bob e uma vez que os parametros são os mesmos a seed e a respetiva password\n",
    "    #vao coincidir\n",
    "    seed_reciever= bob.generate_seed(password.encode())\n",
    "    key_reciever=prg(seed_reciever,4)\n",
    "    bob.setKey(key_reciever)\n",
    "    \n",
    "    #bob recebe a mensagem da alice\n",
    "    bob.recieve_message(ct)\n",
    "    end=time.time()\n",
    "    print(end-start)\n",
    "\n",
    "if __name__== \"__main__\":\n",
    "    main()"
   ]
  },
  {
   "cell_type": "markdown",
   "metadata": {},
   "source": [
    "Na main simula-se a comunicação assíncrona onde o emissor e o recetor geram a seed através da password comum. A seguir com esta seed o emissor gera a sua chave e envia a mensagem codificada. O recetor recebe a mensagem, divide-a nos seus componentes (signature,salt,texto) e usa o salt recebido do emissor para gerar uma key através da seed. Como os parâmetros da criação são iguais as chaves vão ser as mesmas. Depois só é preciso proceder à descodificação da mensagem. É usado o time para ver o tempo que o algoritmo demora a executar."
   ]
  }
 ],
 "metadata": {
  "interpreter": {
   "hash": "f6f09947e253af544d68523b25c84466c5032576772f7e30eec03ecb9a460324"
  },
  "kernelspec": {
   "display_name": "Python 3 (ipykernel)",
   "language": "python",
   "name": "python3"
  },
  "language_info": {
   "codemirror_mode": {
    "name": "ipython",
    "version": 3
   },
   "file_extension": ".py",
   "mimetype": "text/x-python",
   "name": "python",
   "nbconvert_exporter": "python",
   "pygments_lexer": "ipython3",
   "version": "3.9.7"
  }
 },
 "nbformat": 4,
 "nbformat_minor": 4
}
